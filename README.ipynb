{
 "cells": [
  {
   "cell_type": "markdown",
   "metadata": {},
   "source": [
    "## Project Title: Analysis of Police Incidents in the City and County of San Francisco"
   ]
  },
  {
   "cell_type": "markdown",
   "metadata": {},
   "source": [
    "### Team Members:\n",
    "* Abdullah ALfai\n",
    "* Alex Leontiev\n",
    "* Ray Sheng\n",
    "* Beatriz Shetkar"
   ]
  },
  {
   "cell_type": "markdown",
   "metadata": {},
   "source": [
    "### Project Description:\n",
    "For this project, we will be looking at data provided by San Francisco Police that contains each police incident recorded from 2003 to 2018. We will be narrow down our scope of study to the period between 01/01/2010 and 12/31/2017. We will investigate the relationships between various aspects of these police incidents."
   ]
  },
  {
   "cell_type": "markdown",
   "metadata": {},
   "source": [
    "### Research Questions to Answer:\n",
    "* What are general trends and makeup of types of crime in SF?\n",
    "* Are there temporal and geographic area correlations with criminal activity?\n",
    "* Are there any socioeconomic relationships?"
   ]
  },
  {
   "cell_type": "markdown",
   "metadata": {},
   "source": [
    "### Data Sets to be Used:\n",
    "##### Main Data Set:\n",
    "* SF Police Department Incidents (2.16M rows total): https://data.sfgov.org/Public-Safety/Police-Department-Incidents/tmnf-yvry\n",
    "\n",
    "##### Supporting Data Sets: \n",
    "* US Census Data: https://www.census.gov/topics/income-poverty/poverty/guidance/data-sources/acs-vs-cps.html"
   ]
  },
  {
   "cell_type": "markdown",
   "metadata": {},
   "source": [
    "### Breakdown of Tasks:\n",
    "* Clean the downloaded police incidents data\n",
    "* Retrieve zip code information using census and geonames APIs\n",
    "* Synthesize the final dataset that will be used in analysis\n",
    "* Analyze data and prepare visuals\n",
    "* Create presentation slides\n",
    "* Present"
   ]
  },
  {
   "cell_type": "code",
   "execution_count": null,
   "metadata": {
    "collapsed": true
   },
   "outputs": [],
   "source": []
  }
 ],
 "metadata": {
  "kernelspec": {
   "display_name": "Python 3",
   "language": "python",
   "name": "python3"
  },
  "language_info": {
   "codemirror_mode": {
    "name": "ipython",
    "version": 3
   },
   "file_extension": ".py",
   "mimetype": "text/x-python",
   "name": "python",
   "nbconvert_exporter": "python",
   "pygments_lexer": "ipython3",
   "version": "3.6.3"
  }
 },
 "nbformat": 4,
 "nbformat_minor": 2
}
